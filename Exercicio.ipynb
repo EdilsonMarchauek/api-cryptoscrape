{
 "cells": [
  {
   "cell_type": "code",
   "execution_count": 2,
   "id": "6173a8c8",
   "metadata": {},
   "outputs": [],
   "source": [
    "from bs4 import BeautifulSoup\n",
    "import requests\n",
    "import re\n",
    "\n",
    "# conectar com o site\n",
    "link = 'https://coinmarketcap.com/'\n",
    "requisicao = requests.get(link)\n",
    "site = BeautifulSoup(requisicao.text, \"html.parser\")\n",
    "\n",
    "# visualizando o site\n",
    "# print(site.prettify())"
   ]
  },
  {
   "cell_type": "code",
   "execution_count": 6,
   "id": "2d31d5ce",
   "metadata": {},
   "outputs": [
    {
     "name": "stdout",
     "output_type": "stream",
     "text": [
      "Bitcoin\n",
      "Ethereum\n",
      "Tether\n",
      "BNB\n",
      "USD Coin\n",
      "XRP\n",
      "Cardano\n",
      "Dogecoin\n",
      "Solana\n",
      "Litecoin\n"
     ]
    }
   ],
   "source": [
    "tbody = site.find(\"tbody\")\n",
    "\n",
    "# pesquisando dentro da tabela pelas linhas\n",
    "linhas = tbody.find_all(\"tr\")\n",
    "for linha in linhas:\n",
    "    try:\n",
    "        nome = linha.find(class_=\"kKpPOn\").text\n",
    "        codigo = \"\"\n",
    "        preco = \"\"\n",
    "        var_1h = \"\"\n",
    "        var_24h = \"\"\n",
    "        var_7d = \"\"\n",
    "        market_cap = \"\"\n",
    "        volume = \"\"\n",
    "        print(nome)\n",
    "    except AttributeError:\n",
    "        break\n",
    "    \n"
   ]
  },
  {
   "cell_type": "code",
   "execution_count": null,
   "id": "d7b41095",
   "metadata": {},
   "outputs": [],
   "source": []
  }
 ],
 "metadata": {
  "kernelspec": {
   "display_name": "Python 3 (ipykernel)",
   "language": "python",
   "name": "python3"
  },
  "language_info": {
   "codemirror_mode": {
    "name": "ipython",
    "version": 3
   },
   "file_extension": ".py",
   "mimetype": "text/x-python",
   "name": "python",
   "nbconvert_exporter": "python",
   "pygments_lexer": "ipython3",
   "version": "3.10.9"
  }
 },
 "nbformat": 4,
 "nbformat_minor": 5
}
