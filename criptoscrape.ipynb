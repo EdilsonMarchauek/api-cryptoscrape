{
 "cells": [
  {
   "cell_type": "code",
   "execution_count": 28,
   "id": "6173a8c8",
   "metadata": {},
   "outputs": [],
   "source": [
    "from bs4 import BeautifulSoup\n",
    "import requests\n",
    "import re\n",
    "\n",
    "# conectar com o site\n",
    "link = 'https://coinmarketcap.com/'\n",
    "requisicao = requests.get(link)\n",
    "site = BeautifulSoup(requisicao.text, \"html.parser\")\n",
    "\n",
    "# visualizando o site\n",
    "# print(site.prettify())"
   ]
  },
  {
   "cell_type": "code",
   "execution_count": 30,
   "id": "2d31d5ce",
   "metadata": {},
   "outputs": [
    {
     "name": "stdout",
     "output_type": "stream",
     "text": [
      "{'Bitcoin': {'nome': 'Bitcoin', 'codigo': 'BTC', 'preco': '$30,441.17', 'market_cap': '$591,155,632,366', 'volune': '$15,712,690,998', 'var_1h': '-0.63%', 'var_24h': '-0.02%', 'var_7d': '-1.59%'}, 'Ethereum': {'nome': 'Ethereum', 'codigo': 'ETH', 'preco': '$1,869.17', 'market_cap': '$224,609,579,249', 'volune': '$6,155,575,998', 'var_1h': '-0.27%', 'var_24h': '-0.88%', 'var_7d': '-4.24%'}, 'Tether': {'nome': 'Tether', 'codigo': 'USDT', 'preco': '$1.00', 'market_cap': '$83,384,977,250', 'volune': '$22,012,278,911', 'var_1h': '-0.01%', 'var_24h': '0.00%', 'var_7d': '-0.01%'}, 'BNB': {'nome': 'BNB', 'codigo': 'BNB', 'preco': '$247.85', 'market_cap': '$38,618,201,182', 'volune': '$593,880,762', 'var_1h': '0.05%', 'var_24h': '0.93%', 'var_7d': '2.17%'}, 'USD Coin': {'nome': 'USD Coin', 'codigo': 'USDC', 'preco': '$1.00', 'market_cap': '$27,346,458,699', 'volune': '$3,266,723,621', 'var_1h': '0.01%', 'var_24h': '-0.00%', 'var_7d': '-0.00%'}, 'XRP': {'nome': 'XRP', 'codigo': 'XRP', 'preco': '$0.4718', 'market_cap': '$24,791,982,037', 'volune': '$745,394,956', 'var_1h': '-0.29%', 'var_24h': '-0.45%', 'var_7d': '-3.30%'}, 'Cardano': {'nome': 'Cardano', 'codigo': 'ADA', 'preco': '$0.2898', 'market_cap': '$10,132,110,808', 'volune': '$213,056,435', 'var_1h': '-0.44%', 'var_24h': '0.18%', 'var_7d': '-1.34%'}, 'Dogecoin': {'nome': 'Dogecoin', 'codigo': 'DOGE', 'preco': '$0.06452', 'market_cap': '$9,041,835,769', 'volune': '$185,709,877', 'var_1h': '-0.54%', 'var_24h': '-1.00%', 'var_7d': '-7.25%'}, 'Solana': {'nome': 'Solana', 'codigo': 'SOL', 'preco': '$21.99', 'market_cap': '$8,855,035,201', 'volune': '$560,706,692', 'var_1h': '-0.68%', 'var_24h': '3.63%', 'var_7d': '12.82%'}, 'Litecoin': {'nome': 'Litecoin', 'codigo': 'LTC', 'preco': '$95.85', 'market_cap': '$7,029,847,870', 'volune': '$691,941,951', 'var_1h': '-0.74%', 'var_24h': '0.15%', 'var_7d': '-10.45%'}}\n"
     ]
    }
   ],
   "source": [
    "tbody = site.find(\"tbody\")\n",
    "\n",
    "# pesquisando dentro da tabela pelas linhas\n",
    "linhas = tbody.find_all(\"tr\")\n",
    "moedas = {}\n",
    "for linha in linhas:\n",
    "    try:\n",
    "        nome = linha.find(class_=\"kKpPOn\").text\n",
    "        codigo = linha.find(class_=\"coin-item-symbol\").text\n",
    "        valores = linha.find_all(string=re.compile(\"\\$\"))\n",
    "        preco = valores[0]\n",
    "        percentuais = linha.find_all(string=re.compile(\"%\"))   \n",
    "        market_cap = valores[2]\n",
    "        \n",
    "        for i, percentual in enumerate(percentuais):\n",
    "            if \"bQjSqS\" in percentual.parent[\"class\"]:\n",
    "                percentuais[i] = \"-\" + str(percentual)\n",
    "        \n",
    "        var_1h = percentuais[0]\n",
    "        var_24h = percentuais[1]\n",
    "        var_7d = percentuais[2]\n",
    "                \n",
    "        volume = valores[3]\n",
    "        dic = {\"nome\": nome, \"codigo\": codigo, \"preco\": preco, \"market_cap\": market_cap, \"volune\": volume,\n",
    "              \"var_1h\": var_1h, \"var_24h\": var_24h, \"var_7d\": var_7d}\n",
    "        moedas[nome] = dic\n",
    "    except AttributeError:\n",
    "        break\n",
    "    \n",
    "print(moedas)"
   ]
  },
  {
   "cell_type": "code",
   "execution_count": null,
   "id": "d7b41095",
   "metadata": {},
   "outputs": [],
   "source": []
  }
 ],
 "metadata": {
  "kernelspec": {
   "display_name": "Python 3 (ipykernel)",
   "language": "python",
   "name": "python3"
  },
  "language_info": {
   "codemirror_mode": {
    "name": "ipython",
    "version": 3
   },
   "file_extension": ".py",
   "mimetype": "text/x-python",
   "name": "python",
   "nbconvert_exporter": "python",
   "pygments_lexer": "ipython3",
   "version": "3.10.9"
  }
 },
 "nbformat": 4,
 "nbformat_minor": 5
}
